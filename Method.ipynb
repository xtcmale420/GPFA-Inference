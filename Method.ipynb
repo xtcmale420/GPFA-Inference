{
 "cells": [
  {
   "attachments": {},
   "cell_type": "markdown",
   "metadata": {},
   "source": [
    "# Application of Cross-Validation in GPFA Inferrence\n",
    "## By Tiancheng Xu\n",
    "\n",
    "### Seeing the probelm of the loop aiming to test each hyperparameters, I create this Jupyter Notebook in order to overcome the preblem. However, it is still a temporal method and eventually we need to solve the problem in the Python code."
   ]
  },
  {
   "cell_type": "code",
   "execution_count": 37,
   "metadata": {},
   "outputs": [],
   "source": [
    "import numpy as np\n",
    "import torch\n",
    "from sklearn.model_selection import KFold\n",
    "import matplotlib.pyplot as plt\n",
    "import sys\n",
    "from pp import PointProcessGPFA\n",
    "from base import BaseGP, CosineKernel, enforce_type"
   ]
  },
  {
   "attachments": {},
   "cell_type": "markdown",
   "metadata": {},
   "source": [
    "## Preparing the spike train"
   ]
  },
  {
   "cell_type": "code",
   "execution_count": 14,
   "metadata": {},
   "outputs": [],
   "source": [
    "W = np.array([[-1.01038047e-7, 3.91755635e-1, -2.00601176e-7], [-1.18291113e-7, 3.93738773e-1, -2.05185896e-7], [-1.21354510e-7, 3.84734116e-1, -2.3405887e-7], [-9.20452121e-8, 3.87025115e-1, -2.11742197e-7]])\n",
    "sigma = [3.58804129, 2.29182921, 3.44943223]\n",
    "mu = [2.50000134, 1.98118901e-2, 2.49998292]\n",
    "T = 100"
   ]
  },
  {
   "cell_type": "code",
   "execution_count": 15,
   "metadata": {},
   "outputs": [],
   "source": [
    "base_models = [BaseGP(CosineKernel, sigma=sigma[i], mu=mu[i]) for i in range(3)]\n",
    "PG0 = PointProcessGPFA(4, base_models, W)\n",
    "y = PG0.sample(T)"
   ]
  },
  {
   "attachments": {},
   "cell_type": "markdown",
   "metadata": {},
   "source": [
    "## Inference\n",
    "\n",
    "### The approach is that we control the loop on our own. For each possible hyperparameter, we ran the code cell and get a evaulate score, then we do the comparision to choose the best latent dimension."
   ]
  },
  {
   "cell_type": "code",
   "execution_count": 16,
   "metadata": {},
   "outputs": [],
   "source": [
    "def train_loop(y, model, loss, tol=1e-3):\n",
    "    \n",
    "    optimizer = torch.optim.SGD(model.parameters(), lr=1e-3)\n",
    "    optimizer.zero_grad()\n",
    "\n",
    "    tol = 1e-3\n",
    "    delta_loss = 1e6\n",
    "\n",
    "    while delta_loss > tol:\n",
    "        optimizer.zero_grad()\n",
    "        l = -1*loss(y)\n",
    "        #print('l:%f' % l)\n",
    "        # This takes the calculate value, and automatically calculates gradients with respect to parameters\n",
    "        l.backward()\n",
    "        # Optimizer will take the gradients, and then update parameters accordingly\n",
    "        optimizer.step()\n",
    "        # Calculate new loss given the parameter update\n",
    "        l1 = -1*loss(y).detach()\n",
    "        delta_loss = torch.abs(l1 - l)\n",
    "        #print('l1:%f' % l1)\n",
    "    \n",
    "    # Extract the parameters\n",
    "    n = 0\n",
    "    sigma = []\n",
    "    mu = []\n",
    "    for parameters in model.parameters():\n",
    "        \n",
    "        if (n==0):\n",
    "            W = torch.tensor(parameters)\n",
    "        elif(n%2==1):\n",
    "            sigma.append(torch.tensor(parameters))\n",
    "        elif(n%2==0):\n",
    "            mu.append(torch.tensor(parameters))   \n",
    "        n = n+1\n",
    "    \n",
    "    return W, sigma, mu"
   ]
  },
  {
   "cell_type": "code",
   "execution_count": 17,
   "metadata": {},
   "outputs": [],
   "source": [
    "def Cross_Validation(y, i):\n",
    "    \n",
    "    sk = KFold(10)\n",
    "    sk = sk.split(y)\n",
    "\n",
    "    # Check each possible value of the dimension of latent\n",
    "    Evaluate_Score_Sum = torch.tensor(0)\n",
    "        \n",
    "    # K-fold Cross-Validation\n",
    "    for train, test in sk:\n",
    "            \n",
    "        # Integrate traindata and testdata\n",
    "        traindata = y[train]\n",
    "        testdata = y[test]\n",
    "\n",
    "        # Model\n",
    "        base_models = [BaseGP(CosineKernel) for _ in range(i)]\n",
    "        model = PointProcessGPFA(4, base_models, W=None)\n",
    "            \n",
    "        # Training\n",
    "        W, sigma, mu = train_loop(traindata, model, model.approximate_marginal_likelihood)\n",
    "\n",
    "        # Marginal likelihood\n",
    "        base_models = [BaseGP(CosineKernel, sigma=sigma[j], mu=mu[j]) for j in range(i)]\n",
    "        PG = PointProcessGPFA(4, base_models, W)\n",
    "        Evaluate_Score = -1*PG.approximate_marginal_likelihood(testdata)\n",
    "        Evaluate_Score_Sum = torch.add(Evaluate_Score_Sum, Evaluate_Score)\n",
    "            \n",
    "    Evaluate_Score_Sum = torch.div(Evaluate_Score_Sum, 10)\n",
    "    \n",
    "    return Evaluate_Score_Sum"
   ]
  },
  {
   "cell_type": "code",
   "execution_count": 18,
   "metadata": {},
   "outputs": [],
   "source": [
    "# Set up the first possible hyperparameter value\n",
    "i = 1\n",
    "# Set up the relevant value\n",
    "Marginal_likelihood = torch.tensor(0)\n",
    "latent_dim = 1\n",
    "# Series\n",
    "X = [1,2,3]\n",
    "Y = []"
   ]
  },
  {
   "attachments": {},
   "cell_type": "markdown",
   "metadata": {},
   "source": [
    "### Operate the following three cells for L-1 times, here L is the dimension or number of nuerons."
   ]
  },
  {
   "cell_type": "code",
   "execution_count": 30,
   "metadata": {},
   "outputs": [
    {
     "name": "stdout",
     "output_type": "stream",
     "text": [
      "3\n"
     ]
    }
   ],
   "source": [
    "print(i)"
   ]
  },
  {
   "cell_type": "code",
   "execution_count": 31,
   "metadata": {},
   "outputs": [
    {
     "name": "stderr",
     "output_type": "stream",
     "text": [
      "C:\\Users\\Kevin\\AppData\\Local\\Temp\\ipykernel_8848\\2626093045.py:29: UserWarning: To copy construct from a tensor, it is recommended to use sourceTensor.clone().detach() or sourceTensor.clone().detach().requires_grad_(True), rather than torch.tensor(sourceTensor).\n",
      "  W = torch.tensor(parameters)\n",
      "C:\\Users\\Kevin\\AppData\\Local\\Temp\\ipykernel_8848\\2626093045.py:31: UserWarning: To copy construct from a tensor, it is recommended to use sourceTensor.clone().detach() or sourceTensor.clone().detach().requires_grad_(True), rather than torch.tensor(sourceTensor).\n",
      "  sigma.append(torch.tensor(parameters))\n",
      "C:\\Users\\Kevin\\AppData\\Local\\Temp\\ipykernel_8848\\2626093045.py:33: UserWarning: To copy construct from a tensor, it is recommended to use sourceTensor.clone().detach() or sourceTensor.clone().detach().requires_grad_(True), rather than torch.tensor(sourceTensor).\n",
      "  mu.append(torch.tensor(parameters))\n",
      "c:\\Users\\Kevin\\Desktop\\Project\\gpdev\\base.py:46: UserWarning: To copy construct from a tensor, it is recommended to use sourceTensor.clone().detach() or sourceTensor.clone().detach().requires_grad_(True), rather than torch.tensor(sourceTensor).\n",
      "  self.sigma = nn.Parameter(torch.tensor(sigma))\n",
      "c:\\Users\\Kevin\\Desktop\\Project\\gpdev\\base.py:47: UserWarning: To copy construct from a tensor, it is recommended to use sourceTensor.clone().detach() or sourceTensor.clone().detach().requires_grad_(True), rather than torch.tensor(sourceTensor).\n",
      "  self.mu = nn.Parameter(torch.tensor(mu))\n"
     ]
    }
   ],
   "source": [
    "Evaluate_Score = Cross_Validation(y, i)\n",
    "Y.append(Evaluate_Score)\n",
    "if (Evaluate_Score < Marginal_likelihood):\n",
    "    Marginal_likelihood = Evaluate_Score\n",
    "    latent_dim = i\n",
    "i = i+1"
   ]
  },
  {
   "cell_type": "code",
   "execution_count": 32,
   "metadata": {},
   "outputs": [
    {
     "name": "stdout",
     "output_type": "stream",
     "text": [
      "tensor(-57.0847, grad_fn=<DivBackward0>)\n",
      "4\n"
     ]
    }
   ],
   "source": [
    "print(Evaluate_Score)\n",
    "print(i)"
   ]
  },
  {
   "cell_type": "code",
   "execution_count": 35,
   "metadata": {},
   "outputs": [
    {
     "name": "stdout",
     "output_type": "stream",
     "text": [
      "[tensor(-57.0846, grad_fn=<DivBackward0>), tensor(-57.0847, grad_fn=<DivBackward0>), tensor(-57.0847, grad_fn=<DivBackward0>)]\n"
     ]
    }
   ],
   "source": [
    "print(Y)"
   ]
  },
  {
   "cell_type": "code",
   "execution_count": 38,
   "metadata": {},
   "outputs": [],
   "source": [
    "for i in range(3):\n",
    "    Y[i] = enforce_type(Y[i], np.ndarray)"
   ]
  },
  {
   "cell_type": "code",
   "execution_count": 40,
   "metadata": {},
   "outputs": [
    {
     "name": "stdout",
     "output_type": "stream",
     "text": [
      "[array(-57.084618, dtype=float32), array(-57.08468, dtype=float32), array(-57.084717, dtype=float32)]\n"
     ]
    }
   ],
   "source": [
    "print(Y)"
   ]
  },
  {
   "cell_type": "code",
   "execution_count": 41,
   "metadata": {},
   "outputs": [
    {
     "name": "stdout",
     "output_type": "stream",
     "text": [
      "3\n"
     ]
    }
   ],
   "source": [
    "print(latent_dim)"
   ]
  },
  {
   "cell_type": "code",
   "execution_count": 39,
   "metadata": {},
   "outputs": [
    {
     "data": {
      "image/png": "[encoded data removed]",
      "text/plain": [
       "<Figure size 640x480 with 1 Axes>"
      ]
     },
     "metadata": {},
     "output_type": "display_data"
    }
   ],
   "source": [
    "plt.scatter(X, Y)\n",
    "plt.title('Evaluate Score of each possible hyperparameters')\n",
    "plt.xlabel('Hyperparameter')\n",
    "plt.ylabel('Marginal likelihood')\n",
    "plt.show()"
   ]
  }
 ],
 "metadata": {
  "kernelspec": {
   "display_name": "Python 3",
   "language": "python",
   "name": "python3"
  },
  "language_info": {
   "codemirror_mode": {
    "name": "ipython",
    "version": 3
   },
   "file_extension": ".py",
   "mimetype": "text/x-python",
   "name": "python",
   "nbconvert_exporter": "python",
   "pygments_lexer": "ipython3",
   "version": "3.9.13"
  },
  "orig_nbformat": 4
 },
 "nbformat": 4,
 "nbformat_minor": 2
}
